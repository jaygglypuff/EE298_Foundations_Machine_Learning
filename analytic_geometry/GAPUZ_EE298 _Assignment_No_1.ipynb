{
 "cells": [
  {
   "cell_type": "markdown",
   "metadata": {},
   "source": [
    "## Asignment No. 1\n",
    "### EE 298 Foundations of Machine Learning \n",
    "#### Jay Neil Gapuz"
   ]
  },
  {
   "cell_type": "code",
   "execution_count": 1,
   "metadata": {},
   "outputs": [],
   "source": [
    "# Import the libraries\n",
    "import numpy as np\n",
    "import matplotlib.pyplot as plt\n",
    "import math"
   ]
  },
  {
   "cell_type": "markdown",
   "metadata": {},
   "source": [
    "### Create the basis vectors\n",
    "\n",
    "Generate a 16 x 16 - dim position encoding using an interweaved sin(.) and cos(.) functions:\n",
    "\n",
    "B = {b1,b2,b3,...b16} where bi is a vector with size 16."
   ]
  },
  {
   "cell_type": "code",
   "execution_count": 2,
   "metadata": {},
   "outputs": [],
   "source": [
    "def createInterweavedFunc(dim1,dim2):\n",
    "    '''\n",
    "    this function will return a matrix with these format:\n",
    "    [\n",
    "        [sin(x1),cos(x1),sin(x1)...],\n",
    "        [cos(x2),sin(x2),cos(x2)...],\n",
    "        [sin(x3),cos(x3),sin(x3)...],\n",
    "        [cos(x4),sin(x4),cos(x4)...],\n",
    "        .\n",
    "        .\n",
    "        .      \n",
    "    ]   \n",
    "    where x is a list of values from 0 to 2pi\n",
    "    '''\n",
    " \n",
    "    # Create a domain spanning from 0 to 2pi\n",
    "    domain_arr = [0]\n",
    "    n = 0 \n",
    "    for i in range(dim1-1):\n",
    "        n = n + math.pi/(dim1/2)\n",
    "        domain_arr.append(n)\n",
    "        \n",
    "    # Generate the vectors    \n",
    "    arr_sin_cos = []     \n",
    "    # sin(x) and cos(x) will already produce 2 elements in a list\n",
    "    dim2 = int(dim2/2)\n",
    "    for i in range(dim1):\n",
    "        temp_arr = []\n",
    "        val = domain_arr[i]\n",
    "        if i%2 == 0:\n",
    "            for j in range(dim2):\n",
    "                temp_arr.append(np.sin(val))\n",
    "                temp_arr.append(np.cos(val))\n",
    "        else:\n",
    "            for j in range(dim2):\n",
    "                temp_arr.append(np.cos(val))\n",
    "                temp_arr.append(np.sin(val))\n",
    "        \n",
    "        arr_sin_cos.append(temp_arr)\n",
    "        \n",
    "    return np.array([arr_sin_cos])\n",
    "            "
   ]
  },
  {
   "cell_type": "markdown",
   "metadata": {},
   "source": [
    "Define the parameters to return a 16 x 16 array, then input to the positional encoding function"
   ]
  },
  {
   "cell_type": "code",
   "execution_count": 3,
   "metadata": {},
   "outputs": [],
   "source": [
    "dim1 = 16\n",
    "dim2 = 16\n",
    "outputVecs = createInterweavedFunc(dim1,dim2)"
   ]
  },
  {
   "cell_type": "markdown",
   "metadata": {},
   "source": [
    "### Check if vectors are orthogonal and orthonormal\n",
    "A. Let  B  =  {v1, v2, ... , vk} be a set of vectors in Rn, then B is called an orthogonal if \n",
    "\n",
    "        vi . vj  =  0\n",
    "B. An orthogonal set of vectors is called orthonormal if all vectors in S are unit vectors.The magnitude of the vectors should be equal to 1"
   ]
  },
  {
   "cell_type": "code",
   "execution_count": 4,
   "metadata": {},
   "outputs": [],
   "source": [
    "#We define a function that will check if the basis vectors are orthogonal and orthonormal\n",
    "\n",
    "def checkIfOrthogonal(v):\n",
    "    try: v = v.tolist()\n",
    "    except: pass\n",
    "    product_vals = []\n",
    "    for vec in v:\n",
    "        v_copy = [x for x in v if x != vec]\n",
    "        # Perform multiplication\n",
    "        for vec_2 in v_copy:\n",
    "            result = np.dot(np.array(vec_2),np.array(vec))\n",
    "            product_vals.append(result)\n",
    "    #print(product_vals)\n",
    "    return all(np.abs(i) < 0.000001 for i in product_vals)\n",
    "\n",
    "def checkIfOrthonormal(v):\n",
    "    try: v = v.tolist()\n",
    "    except: pass\n",
    "    mag_vals = []\n",
    "    for vec in v: \n",
    "        mag_vals.append(math.sqrt(sum(i**2 for i in vec)))\n",
    "    #print(mag_vals)\n",
    "    return all(np.abs(i) > 0.999 and np.abs(i) < 1.001 for i in mag_vals)\n",
    "    "
   ]
  },
  {
   "cell_type": "code",
   "execution_count": 5,
   "metadata": {},
   "outputs": [
    {
     "name": "stdout",
     "output_type": "stream",
     "text": [
      "Orthogonal False\n",
      "Orthonormal False\n"
     ]
    }
   ],
   "source": [
    "print(\"Orthogonal\", checkIfOrthogonal(outputVecs[0]))\n",
    "print(\"Orthonormal\", checkIfOrthonormal(outputVecs[0]))"
   ]
  },
  {
   "cell_type": "markdown",
   "metadata": {},
   "source": [
    "The resulting vectors are not orthogonal and not orthonormal"
   ]
  },
  {
   "cell_type": "markdown",
   "metadata": {},
   "source": [
    "### Perfrom Gram–Schmidt process\n",
    "This will orthogonalize and normalize the vectors"
   ]
  },
  {
   "cell_type": "code",
   "execution_count": 6,
   "metadata": {},
   "outputs": [],
   "source": [
    "# Pseudo in Matlab available at https://en.wikipedia.org/wiki/Gram%E2%80%93Schmidt_process\n",
    "def gram_schmidt_func(A):\n",
    "      \n",
    "    k = A.shape[0]\n",
    "    A[:, 0] = A[:, 0]/np.sqrt((A[:, 0]).dot(A[:, 0]))\n",
    "\n",
    "    for i in range(1, k):\n",
    "        Ai = A[:, i]\n",
    "        for j in range(0, i):\n",
    "            Aj = A[:, j]\n",
    "            Ai = Ai - Ai.dot(Aj) * Aj\n",
    "        A[:, i] = Ai /np.sqrt(Ai.dot(Ai))\n",
    "    \n",
    "    return A\n",
    "\n",
    "# Built in function QR decomposition using G-S in numpy\n",
    "def gs2(v):\n",
    "    Q,R  = np.linalg.qr(v)\n",
    "    return Q"
   ]
  },
  {
   "cell_type": "code",
   "execution_count": 11,
   "metadata": {},
   "outputs": [
    {
     "name": "stdout",
     "output_type": "stream",
     "text": [
      "Orthogonal True\n",
      "Orthonormal True\n"
     ]
    }
   ],
   "source": [
    "# Transform the vecs using G-S method\n",
    "outputVecs_copy = np.copy(outputVecs)\n",
    "transformed_output = gs2(outputVecs_copy[0])\n",
    "# Check if orthogonal and orthonormal\n",
    "print(\"Orthogonal\", checkIfOrthogonal(transformed_output))\n",
    "print(\"Orthonormal\", checkIfOrthonormal(transformed_output))"
   ]
  },
  {
   "cell_type": "markdown",
   "metadata": {},
   "source": [
    "### Plot the vectors"
   ]
  },
  {
   "cell_type": "code",
   "execution_count": 8,
   "metadata": {},
   "outputs": [],
   "source": [
    "def plot_vecs(V,dim1,dim2):\n",
    "    plt.figure(figsize=(12,8))\n",
    "    plt.pcolormesh(V, cmap='viridis')\n",
    "    plt.xlabel('Dimensions')\n",
    "    plt.xlim((0, dim1))\n",
    "    plt.ylim((dim2,0))\n",
    "    plt.colorbar()"
   ]
  },
  {
   "cell_type": "code",
   "execution_count": 9,
   "metadata": {},
   "outputs": [
    {
     "data": {
      "image/png": "[encoded data removed]",
      "text/plain": [
       "<Figure size 864x576 with 2 Axes>"
      ]
     },
     "metadata": {
      "needs_background": "light"
     },
     "output_type": "display_data"
    }
   ],
   "source": [
    "# A. The original vectors\n",
    "plot_vecs(outputVecs[0],dim1,dim2)"
   ]
  },
  {
   "cell_type": "code",
   "execution_count": 10,
   "metadata": {},
   "outputs": [
    {
     "data": {
      "image/png": "[encoded data removed]",
      "text/plain": [
       "<Figure size 864x576 with 2 Axes>"
      ]
     },
     "metadata": {
      "needs_background": "light"
     },
     "output_type": "display_data"
    }
   ],
   "source": [
    "# B. The transformed vectors\n",
    "plot_vecs(transformed_output,dim1,dim2)"
   ]
  },
  {
   "cell_type": "code",
   "execution_count": null,
   "metadata": {},
   "outputs": [],
   "source": []
  }
 ],
 "metadata": {
  "kernelspec": {
   "display_name": "Python 3",
   "language": "python",
   "name": "python3"
  },
  "language_info": {
   "codemirror_mode": {
    "name": "ipython",
    "version": 3
   },
   "file_extension": ".py",
   "mimetype": "text/x-python",
   "name": "python",
   "nbconvert_exporter": "python",
   "pygments_lexer": "ipython3",
   "version": "3.7.4"
  }
 },
 "nbformat": 4,
 "nbformat_minor": 2
}
